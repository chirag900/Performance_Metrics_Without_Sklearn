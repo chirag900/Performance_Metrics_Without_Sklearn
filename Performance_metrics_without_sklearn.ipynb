{
  "nbformat": 4,
  "nbformat_minor": 0,
  "metadata": {
    "colab": {
      "name": "Submission_5_Performance_metrics1.9_Instructions.ipynb",
      "provenance": [],
      "collapsed_sections": []
    },
    "language_info": {
      "codemirror_mode": {
        "name": "ipython",
        "version": 3
      },
      "file_extension": ".py",
      "mimetype": "text/x-python",
      "name": "python",
      "nbconvert_exporter": "python",
      "pygments_lexer": "ipython3",
      "version": "3.6.8"
    },
    "kernelspec": {
      "display_name": "Python 3",
      "language": "python",
      "name": "python3"
    },
    "widgets": {
      "application/vnd.jupyter.widget-state+json": {
        "2dcc356991e4467686743aceca800e73": {
          "model_module": "@jupyter-widgets/controls",
          "model_name": "HBoxModel",
          "state": {
            "_view_name": "HBoxView",
            "_dom_classes": [],
            "_model_name": "HBoxModel",
            "_view_module": "@jupyter-widgets/controls",
            "_model_module_version": "1.5.0",
            "_view_count": null,
            "_view_module_version": "1.5.0",
            "box_style": "",
            "layout": "IPY_MODEL_8668f1d6613e43009429448436b03389",
            "_model_module": "@jupyter-widgets/controls",
            "children": [
              "IPY_MODEL_bcab25cde4094949b34899b8d7e1f151",
              "IPY_MODEL_8fe509dca62a4bd796fcdc36bd4691bb"
            ]
          }
        },
        "8668f1d6613e43009429448436b03389": {
          "model_module": "@jupyter-widgets/base",
          "model_name": "LayoutModel",
          "state": {
            "_view_name": "LayoutView",
            "grid_template_rows": null,
            "right": null,
            "justify_content": null,
            "_view_module": "@jupyter-widgets/base",
            "overflow": null,
            "_model_module_version": "1.2.0",
            "_view_count": null,
            "flex_flow": null,
            "width": null,
            "min_width": null,
            "border": null,
            "align_items": null,
            "bottom": null,
            "_model_module": "@jupyter-widgets/base",
            "top": null,
            "grid_column": null,
            "overflow_y": null,
            "overflow_x": null,
            "grid_auto_flow": null,
            "grid_area": null,
            "grid_template_columns": null,
            "flex": null,
            "_model_name": "LayoutModel",
            "justify_items": null,
            "grid_row": null,
            "max_height": null,
            "align_content": null,
            "visibility": null,
            "align_self": null,
            "height": null,
            "min_height": null,
            "padding": null,
            "grid_auto_rows": null,
            "grid_gap": null,
            "max_width": null,
            "order": null,
            "_view_module_version": "1.2.0",
            "grid_template_areas": null,
            "object_position": null,
            "object_fit": null,
            "grid_auto_columns": null,
            "margin": null,
            "display": null,
            "left": null
          }
        },
        "bcab25cde4094949b34899b8d7e1f151": {
          "model_module": "@jupyter-widgets/controls",
          "model_name": "FloatProgressModel",
          "state": {
            "_view_name": "ProgressView",
            "style": "IPY_MODEL_6bc147b393d84cdd9a3d6b0985ccb842",
            "_dom_classes": [],
            "description": "100%",
            "_model_name": "FloatProgressModel",
            "bar_style": "success",
            "max": 10100,
            "_view_module": "@jupyter-widgets/controls",
            "_model_module_version": "1.5.0",
            "value": 10100,
            "_view_count": null,
            "_view_module_version": "1.5.0",
            "orientation": "horizontal",
            "min": 0,
            "description_tooltip": null,
            "_model_module": "@jupyter-widgets/controls",
            "layout": "IPY_MODEL_5a9764d3337346d2b9633f38ee9a6946"
          }
        },
        "8fe509dca62a4bd796fcdc36bd4691bb": {
          "model_module": "@jupyter-widgets/controls",
          "model_name": "HTMLModel",
          "state": {
            "_view_name": "HTMLView",
            "style": "IPY_MODEL_8b3b428f93184680b99e3559b0686d88",
            "_dom_classes": [],
            "description": "",
            "_model_name": "HTMLModel",
            "placeholder": "​",
            "_view_module": "@jupyter-widgets/controls",
            "_model_module_version": "1.5.0",
            "value": " 10100/10100 [00:55&lt;00:00, 182.60it/s]",
            "_view_count": null,
            "_view_module_version": "1.5.0",
            "description_tooltip": null,
            "_model_module": "@jupyter-widgets/controls",
            "layout": "IPY_MODEL_b953135223d34f3ca39715acbfb0c0b2"
          }
        },
        "6bc147b393d84cdd9a3d6b0985ccb842": {
          "model_module": "@jupyter-widgets/controls",
          "model_name": "ProgressStyleModel",
          "state": {
            "_view_name": "StyleView",
            "_model_name": "ProgressStyleModel",
            "description_width": "initial",
            "_view_module": "@jupyter-widgets/base",
            "_model_module_version": "1.5.0",
            "_view_count": null,
            "_view_module_version": "1.2.0",
            "bar_color": null,
            "_model_module": "@jupyter-widgets/controls"
          }
        },
        "5a9764d3337346d2b9633f38ee9a6946": {
          "model_module": "@jupyter-widgets/base",
          "model_name": "LayoutModel",
          "state": {
            "_view_name": "LayoutView",
            "grid_template_rows": null,
            "right": null,
            "justify_content": null,
            "_view_module": "@jupyter-widgets/base",
            "overflow": null,
            "_model_module_version": "1.2.0",
            "_view_count": null,
            "flex_flow": null,
            "width": null,
            "min_width": null,
            "border": null,
            "align_items": null,
            "bottom": null,
            "_model_module": "@jupyter-widgets/base",
            "top": null,
            "grid_column": null,
            "overflow_y": null,
            "overflow_x": null,
            "grid_auto_flow": null,
            "grid_area": null,
            "grid_template_columns": null,
            "flex": null,
            "_model_name": "LayoutModel",
            "justify_items": null,
            "grid_row": null,
            "max_height": null,
            "align_content": null,
            "visibility": null,
            "align_self": null,
            "height": null,
            "min_height": null,
            "padding": null,
            "grid_auto_rows": null,
            "grid_gap": null,
            "max_width": null,
            "order": null,
            "_view_module_version": "1.2.0",
            "grid_template_areas": null,
            "object_position": null,
            "object_fit": null,
            "grid_auto_columns": null,
            "margin": null,
            "display": null,
            "left": null
          }
        },
        "8b3b428f93184680b99e3559b0686d88": {
          "model_module": "@jupyter-widgets/controls",
          "model_name": "DescriptionStyleModel",
          "state": {
            "_view_name": "StyleView",
            "_model_name": "DescriptionStyleModel",
            "description_width": "",
            "_view_module": "@jupyter-widgets/base",
            "_model_module_version": "1.5.0",
            "_view_count": null,
            "_view_module_version": "1.2.0",
            "_model_module": "@jupyter-widgets/controls"
          }
        },
        "b953135223d34f3ca39715acbfb0c0b2": {
          "model_module": "@jupyter-widgets/base",
          "model_name": "LayoutModel",
          "state": {
            "_view_name": "LayoutView",
            "grid_template_rows": null,
            "right": null,
            "justify_content": null,
            "_view_module": "@jupyter-widgets/base",
            "overflow": null,
            "_model_module_version": "1.2.0",
            "_view_count": null,
            "flex_flow": null,
            "width": null,
            "min_width": null,
            "border": null,
            "align_items": null,
            "bottom": null,
            "_model_module": "@jupyter-widgets/base",
            "top": null,
            "grid_column": null,
            "overflow_y": null,
            "overflow_x": null,
            "grid_auto_flow": null,
            "grid_area": null,
            "grid_template_columns": null,
            "flex": null,
            "_model_name": "LayoutModel",
            "justify_items": null,
            "grid_row": null,
            "max_height": null,
            "align_content": null,
            "visibility": null,
            "align_self": null,
            "height": null,
            "min_height": null,
            "padding": null,
            "grid_auto_rows": null,
            "grid_gap": null,
            "max_width": null,
            "order": null,
            "_view_module_version": "1.2.0",
            "grid_template_areas": null,
            "object_position": null,
            "object_fit": null,
            "grid_auto_columns": null,
            "margin": null,
            "display": null,
            "left": null
          }
        },
        "6d7256c8000d4896b6f74ab29eb2c482": {
          "model_module": "@jupyter-widgets/controls",
          "model_name": "HBoxModel",
          "state": {
            "_view_name": "HBoxView",
            "_dom_classes": [],
            "_model_name": "HBoxModel",
            "_view_module": "@jupyter-widgets/controls",
            "_model_module_version": "1.5.0",
            "_view_count": null,
            "_view_module_version": "1.5.0",
            "box_style": "",
            "layout": "IPY_MODEL_610e0521061a4ea5b03a913b4419fd2c",
            "_model_module": "@jupyter-widgets/controls",
            "children": [
              "IPY_MODEL_4518c285787b492c98817cdbf470501a",
              "IPY_MODEL_c35b11ea07204e6c9aa832a900890d1e"
            ]
          }
        },
        "610e0521061a4ea5b03a913b4419fd2c": {
          "model_module": "@jupyter-widgets/base",
          "model_name": "LayoutModel",
          "state": {
            "_view_name": "LayoutView",
            "grid_template_rows": null,
            "right": null,
            "justify_content": null,
            "_view_module": "@jupyter-widgets/base",
            "overflow": null,
            "_model_module_version": "1.2.0",
            "_view_count": null,
            "flex_flow": null,
            "width": null,
            "min_width": null,
            "border": null,
            "align_items": null,
            "bottom": null,
            "_model_module": "@jupyter-widgets/base",
            "top": null,
            "grid_column": null,
            "overflow_y": null,
            "overflow_x": null,
            "grid_auto_flow": null,
            "grid_area": null,
            "grid_template_columns": null,
            "flex": null,
            "_model_name": "LayoutModel",
            "justify_items": null,
            "grid_row": null,
            "max_height": null,
            "align_content": null,
            "visibility": null,
            "align_self": null,
            "height": null,
            "min_height": null,
            "padding": null,
            "grid_auto_rows": null,
            "grid_gap": null,
            "max_width": null,
            "order": null,
            "_view_module_version": "1.2.0",
            "grid_template_areas": null,
            "object_position": null,
            "object_fit": null,
            "grid_auto_columns": null,
            "margin": null,
            "display": null,
            "left": null
          }
        },
        "4518c285787b492c98817cdbf470501a": {
          "model_module": "@jupyter-widgets/controls",
          "model_name": "FloatProgressModel",
          "state": {
            "_view_name": "ProgressView",
            "style": "IPY_MODEL_54c0336f39894382bb5d399ad497aa06",
            "_dom_classes": [],
            "description": "100%",
            "_model_name": "FloatProgressModel",
            "bar_style": "success",
            "max": 10100,
            "_view_module": "@jupyter-widgets/controls",
            "_model_module_version": "1.5.0",
            "value": 10100,
            "_view_count": null,
            "_view_module_version": "1.5.0",
            "orientation": "horizontal",
            "min": 0,
            "description_tooltip": null,
            "_model_module": "@jupyter-widgets/controls",
            "layout": "IPY_MODEL_d5e82deb41004ab685bd13c99f8f603f"
          }
        },
        "c35b11ea07204e6c9aa832a900890d1e": {
          "model_module": "@jupyter-widgets/controls",
          "model_name": "HTMLModel",
          "state": {
            "_view_name": "HTMLView",
            "style": "IPY_MODEL_096ac0537f4f480faf75d4fbad1f0c3c",
            "_dom_classes": [],
            "description": "",
            "_model_name": "HTMLModel",
            "placeholder": "​",
            "_view_module": "@jupyter-widgets/controls",
            "_model_module_version": "1.5.0",
            "value": " 10100/10100 [00:56&lt;00:00, 178.81it/s]",
            "_view_count": null,
            "_view_module_version": "1.5.0",
            "description_tooltip": null,
            "_model_module": "@jupyter-widgets/controls",
            "layout": "IPY_MODEL_91fa5fd773994b349a8f29661a495820"
          }
        },
        "54c0336f39894382bb5d399ad497aa06": {
          "model_module": "@jupyter-widgets/controls",
          "model_name": "ProgressStyleModel",
          "state": {
            "_view_name": "StyleView",
            "_model_name": "ProgressStyleModel",
            "description_width": "initial",
            "_view_module": "@jupyter-widgets/base",
            "_model_module_version": "1.5.0",
            "_view_count": null,
            "_view_module_version": "1.2.0",
            "bar_color": null,
            "_model_module": "@jupyter-widgets/controls"
          }
        },
        "d5e82deb41004ab685bd13c99f8f603f": {
          "model_module": "@jupyter-widgets/base",
          "model_name": "LayoutModel",
          "state": {
            "_view_name": "LayoutView",
            "grid_template_rows": null,
            "right": null,
            "justify_content": null,
            "_view_module": "@jupyter-widgets/base",
            "overflow": null,
            "_model_module_version": "1.2.0",
            "_view_count": null,
            "flex_flow": null,
            "width": null,
            "min_width": null,
            "border": null,
            "align_items": null,
            "bottom": null,
            "_model_module": "@jupyter-widgets/base",
            "top": null,
            "grid_column": null,
            "overflow_y": null,
            "overflow_x": null,
            "grid_auto_flow": null,
            "grid_area": null,
            "grid_template_columns": null,
            "flex": null,
            "_model_name": "LayoutModel",
            "justify_items": null,
            "grid_row": null,
            "max_height": null,
            "align_content": null,
            "visibility": null,
            "align_self": null,
            "height": null,
            "min_height": null,
            "padding": null,
            "grid_auto_rows": null,
            "grid_gap": null,
            "max_width": null,
            "order": null,
            "_view_module_version": "1.2.0",
            "grid_template_areas": null,
            "object_position": null,
            "object_fit": null,
            "grid_auto_columns": null,
            "margin": null,
            "display": null,
            "left": null
          }
        },
        "096ac0537f4f480faf75d4fbad1f0c3c": {
          "model_module": "@jupyter-widgets/controls",
          "model_name": "DescriptionStyleModel",
          "state": {
            "_view_name": "StyleView",
            "_model_name": "DescriptionStyleModel",
            "description_width": "",
            "_view_module": "@jupyter-widgets/base",
            "_model_module_version": "1.5.0",
            "_view_count": null,
            "_view_module_version": "1.2.0",
            "_model_module": "@jupyter-widgets/controls"
          }
        },
        "91fa5fd773994b349a8f29661a495820": {
          "model_module": "@jupyter-widgets/base",
          "model_name": "LayoutModel",
          "state": {
            "_view_name": "LayoutView",
            "grid_template_rows": null,
            "right": null,
            "justify_content": null,
            "_view_module": "@jupyter-widgets/base",
            "overflow": null,
            "_model_module_version": "1.2.0",
            "_view_count": null,
            "flex_flow": null,
            "width": null,
            "min_width": null,
            "border": null,
            "align_items": null,
            "bottom": null,
            "_model_module": "@jupyter-widgets/base",
            "top": null,
            "grid_column": null,
            "overflow_y": null,
            "overflow_x": null,
            "grid_auto_flow": null,
            "grid_area": null,
            "grid_template_columns": null,
            "flex": null,
            "_model_name": "LayoutModel",
            "justify_items": null,
            "grid_row": null,
            "max_height": null,
            "align_content": null,
            "visibility": null,
            "align_self": null,
            "height": null,
            "min_height": null,
            "padding": null,
            "grid_auto_rows": null,
            "grid_gap": null,
            "max_width": null,
            "order": null,
            "_view_module_version": "1.2.0",
            "grid_template_areas": null,
            "object_position": null,
            "object_fit": null,
            "grid_auto_columns": null,
            "margin": null,
            "display": null,
            "left": null
          }
        },
        "2d911ce190fd4c419e16931e132c9c39": {
          "model_module": "@jupyter-widgets/controls",
          "model_name": "HBoxModel",
          "state": {
            "_view_name": "HBoxView",
            "_dom_classes": [],
            "_model_name": "HBoxModel",
            "_view_module": "@jupyter-widgets/controls",
            "_model_module_version": "1.5.0",
            "_view_count": null,
            "_view_module_version": "1.5.0",
            "box_style": "",
            "layout": "IPY_MODEL_fa2d7b8c1b9f4ca1a750d4e30e64902d",
            "_model_module": "@jupyter-widgets/controls",
            "children": [
              "IPY_MODEL_00dd9246cb5143c29151870832034589",
              "IPY_MODEL_35ed2be335754725ad219843c64fc53f"
            ]
          }
        },
        "fa2d7b8c1b9f4ca1a750d4e30e64902d": {
          "model_module": "@jupyter-widgets/base",
          "model_name": "LayoutModel",
          "state": {
            "_view_name": "LayoutView",
            "grid_template_rows": null,
            "right": null,
            "justify_content": null,
            "_view_module": "@jupyter-widgets/base",
            "overflow": null,
            "_model_module_version": "1.2.0",
            "_view_count": null,
            "flex_flow": null,
            "width": null,
            "min_width": null,
            "border": null,
            "align_items": null,
            "bottom": null,
            "_model_module": "@jupyter-widgets/base",
            "top": null,
            "grid_column": null,
            "overflow_y": null,
            "overflow_x": null,
            "grid_auto_flow": null,
            "grid_area": null,
            "grid_template_columns": null,
            "flex": null,
            "_model_name": "LayoutModel",
            "justify_items": null,
            "grid_row": null,
            "max_height": null,
            "align_content": null,
            "visibility": null,
            "align_self": null,
            "height": null,
            "min_height": null,
            "padding": null,
            "grid_auto_rows": null,
            "grid_gap": null,
            "max_width": null,
            "order": null,
            "_view_module_version": "1.2.0",
            "grid_template_areas": null,
            "object_position": null,
            "object_fit": null,
            "grid_auto_columns": null,
            "margin": null,
            "display": null,
            "left": null
          }
        },
        "00dd9246cb5143c29151870832034589": {
          "model_module": "@jupyter-widgets/controls",
          "model_name": "FloatProgressModel",
          "state": {
            "_view_name": "ProgressView",
            "style": "IPY_MODEL_8b5ebd0f32c64d06bdf61334a465d6ee",
            "_dom_classes": [],
            "description": "100%",
            "_model_name": "FloatProgressModel",
            "bar_style": "success",
            "max": 2791,
            "_view_module": "@jupyter-widgets/controls",
            "_model_module_version": "1.5.0",
            "value": 2791,
            "_view_count": null,
            "_view_module_version": "1.5.0",
            "orientation": "horizontal",
            "min": 0,
            "description_tooltip": null,
            "_model_module": "@jupyter-widgets/controls",
            "layout": "IPY_MODEL_a0c67aa747604aeaada57de1c4aa10a6"
          }
        },
        "35ed2be335754725ad219843c64fc53f": {
          "model_module": "@jupyter-widgets/controls",
          "model_name": "HTMLModel",
          "state": {
            "_view_name": "HTMLView",
            "style": "IPY_MODEL_893f8746bc564428b79f64986625d08e",
            "_dom_classes": [],
            "description": "",
            "_model_name": "HTMLModel",
            "placeholder": "​",
            "_view_module": "@jupyter-widgets/controls",
            "_model_module_version": "1.5.0",
            "value": " 2791/2791 [00:10&lt;00:00, 271.63it/s]",
            "_view_count": null,
            "_view_module_version": "1.5.0",
            "description_tooltip": null,
            "_model_module": "@jupyter-widgets/controls",
            "layout": "IPY_MODEL_2bff80741c324969b05bb8dcb5c260cf"
          }
        },
        "8b5ebd0f32c64d06bdf61334a465d6ee": {
          "model_module": "@jupyter-widgets/controls",
          "model_name": "ProgressStyleModel",
          "state": {
            "_view_name": "StyleView",
            "_model_name": "ProgressStyleModel",
            "description_width": "initial",
            "_view_module": "@jupyter-widgets/base",
            "_model_module_version": "1.5.0",
            "_view_count": null,
            "_view_module_version": "1.2.0",
            "bar_color": null,
            "_model_module": "@jupyter-widgets/controls"
          }
        },
        "a0c67aa747604aeaada57de1c4aa10a6": {
          "model_module": "@jupyter-widgets/base",
          "model_name": "LayoutModel",
          "state": {
            "_view_name": "LayoutView",
            "grid_template_rows": null,
            "right": null,
            "justify_content": null,
            "_view_module": "@jupyter-widgets/base",
            "overflow": null,
            "_model_module_version": "1.2.0",
            "_view_count": null,
            "flex_flow": null,
            "width": null,
            "min_width": null,
            "border": null,
            "align_items": null,
            "bottom": null,
            "_model_module": "@jupyter-widgets/base",
            "top": null,
            "grid_column": null,
            "overflow_y": null,
            "overflow_x": null,
            "grid_auto_flow": null,
            "grid_area": null,
            "grid_template_columns": null,
            "flex": null,
            "_model_name": "LayoutModel",
            "justify_items": null,
            "grid_row": null,
            "max_height": null,
            "align_content": null,
            "visibility": null,
            "align_self": null,
            "height": null,
            "min_height": null,
            "padding": null,
            "grid_auto_rows": null,
            "grid_gap": null,
            "max_width": null,
            "order": null,
            "_view_module_version": "1.2.0",
            "grid_template_areas": null,
            "object_position": null,
            "object_fit": null,
            "grid_auto_columns": null,
            "margin": null,
            "display": null,
            "left": null
          }
        },
        "893f8746bc564428b79f64986625d08e": {
          "model_module": "@jupyter-widgets/controls",
          "model_name": "DescriptionStyleModel",
          "state": {
            "_view_name": "StyleView",
            "_model_name": "DescriptionStyleModel",
            "description_width": "",
            "_view_module": "@jupyter-widgets/base",
            "_model_module_version": "1.5.0",
            "_view_count": null,
            "_view_module_version": "1.2.0",
            "_model_module": "@jupyter-widgets/controls"
          }
        },
        "2bff80741c324969b05bb8dcb5c260cf": {
          "model_module": "@jupyter-widgets/base",
          "model_name": "LayoutModel",
          "state": {
            "_view_name": "LayoutView",
            "grid_template_rows": null,
            "right": null,
            "justify_content": null,
            "_view_module": "@jupyter-widgets/base",
            "overflow": null,
            "_model_module_version": "1.2.0",
            "_view_count": null,
            "flex_flow": null,
            "width": null,
            "min_width": null,
            "border": null,
            "align_items": null,
            "bottom": null,
            "_model_module": "@jupyter-widgets/base",
            "top": null,
            "grid_column": null,
            "overflow_y": null,
            "overflow_x": null,
            "grid_auto_flow": null,
            "grid_area": null,
            "grid_template_columns": null,
            "flex": null,
            "_model_name": "LayoutModel",
            "justify_items": null,
            "grid_row": null,
            "max_height": null,
            "align_content": null,
            "visibility": null,
            "align_self": null,
            "height": null,
            "min_height": null,
            "padding": null,
            "grid_auto_rows": null,
            "grid_gap": null,
            "max_width": null,
            "order": null,
            "_view_module_version": "1.2.0",
            "grid_template_areas": null,
            "object_position": null,
            "object_fit": null,
            "grid_auto_columns": null,
            "margin": null,
            "display": null,
            "left": null
          }
        }
      }
    }
  },
  "cells": [
    {
      "cell_type": "markdown",
      "metadata": {
        "id": "s0Ej_bXyQvnV"
      },
      "source": [
        "# Compute performance metrics for the given Y and Y_score without sklearn"
      ]
    },
    {
      "cell_type": "code",
      "metadata": {
        "colab": {
          "base_uri": "https://localhost:8080/"
        },
        "id": "oEZ7V0sh5cP8",
        "outputId": "50edb328-ce92-4564-d3cc-dec7fc7df9fc"
      },
      "source": [
        "from google.colab import drive\n",
        "drive.mount('/content/drive')"
      ],
      "execution_count": 1,
      "outputs": [
        {
          "output_type": "stream",
          "text": [
            "Mounted at /content/drive\n"
          ],
          "name": "stdout"
        }
      ]
    },
    {
      "cell_type": "code",
      "metadata": {
        "id": "guXjBDm-2_ci"
      },
      "source": [
        "import warnings \n",
        "\n",
        "warnings.filterwarnings(\"ignore\")"
      ],
      "execution_count": 2,
      "outputs": []
    },
    {
      "cell_type": "code",
      "metadata": {
        "id": "4CHb6NE7Qvnc"
      },
      "source": [
        "import numpy as np\n",
        "import pandas as pd\n",
        "# other than these two you should not import any other packages"
      ],
      "execution_count": 3,
      "outputs": []
    },
    {
      "cell_type": "markdown",
      "metadata": {
        "id": "KbsWXuDaQvnq"
      },
      "source": [
        "<pre>\n",
        "<font color='red'><b>A.</b></font> Compute performance metrics for the given data <strong>5_a.csv</strong>\n",
        "   <b>Note 1:</b> in this data you can see number of positive points >> number of negatives points\n",
        "   <b>Note 2:</b> use pandas or numpy to read the data from <b>5_a.csv</b>\n",
        "   <b>Note 3:</b> you need to derive the class labels from given score</pre> $y^{pred}= \\text{[0 if y_score < 0.5 else 1]}$\n",
        "\n",
        "<pre>\n",
        "<ol>\n",
        "<li> Compute Confusion Matrix </li>\n",
        "<li> Compute F1 Score </li>\n",
        "<li> Compute AUC Score, you need to compute different thresholds and for each threshold compute tpr,fpr and then use               numpy.trapz(tpr_array, fpr_array) <a href='https://stackoverflow.com/q/53603376/4084039'>https://stackoverflow.com/q/53603376/4084039</a>, <a href='https://stackoverflow.com/a/39678975/4084039'>https://stackoverflow.com/a/39678975/4084039</a> Note: it should be numpy.trapz(tpr_array, fpr_array) not numpy.trapz(fpr_array, tpr_array)</li>\n",
        "<li> Compute Accuracy Score </li>\n",
        "</ol>\n",
        "</pre>"
      ]
    },
    {
      "cell_type": "code",
      "metadata": {
        "id": "kBQBaDlHB8Wz"
      },
      "source": [
        ""
      ],
      "execution_count": 3,
      "outputs": []
    },
    {
      "cell_type": "markdown",
      "metadata": {
        "id": "cM58fbyrBtbp"
      },
      "source": [
        "## Task A:"
      ]
    },
    {
      "cell_type": "code",
      "metadata": {
        "id": "WaFLW7oBQvnt",
        "colab": {
          "base_uri": "https://localhost:8080/",
          "height": 359
        },
        "outputId": "899be965-00a6-4f01-a74d-2c6c4b8cf3d2"
      },
      "source": [
        "# Task A\n",
        "# Step 1. Importing the 5_a.csv file:\n",
        "df1 = pd.read_csv('/content/drive/MyDrive/Applied AI Assignments/Module_3/Assignemnt/Assignment_5_Performance_Metrics_Without_Sklearn/5_Performance_metrics/5_a.csv')\n",
        "\n",
        "df1.head(10)"
      ],
      "execution_count": 4,
      "outputs": [
        {
          "output_type": "execute_result",
          "data": {
            "text/html": [
              "<div>\n",
              "<style scoped>\n",
              "    .dataframe tbody tr th:only-of-type {\n",
              "        vertical-align: middle;\n",
              "    }\n",
              "\n",
              "    .dataframe tbody tr th {\n",
              "        vertical-align: top;\n",
              "    }\n",
              "\n",
              "    .dataframe thead th {\n",
              "        text-align: right;\n",
              "    }\n",
              "</style>\n",
              "<table border=\"1\" class=\"dataframe\">\n",
              "  <thead>\n",
              "    <tr style=\"text-align: right;\">\n",
              "      <th></th>\n",
              "      <th>y</th>\n",
              "      <th>proba</th>\n",
              "    </tr>\n",
              "  </thead>\n",
              "  <tbody>\n",
              "    <tr>\n",
              "      <th>0</th>\n",
              "      <td>1.0</td>\n",
              "      <td>0.637387</td>\n",
              "    </tr>\n",
              "    <tr>\n",
              "      <th>1</th>\n",
              "      <td>1.0</td>\n",
              "      <td>0.635165</td>\n",
              "    </tr>\n",
              "    <tr>\n",
              "      <th>2</th>\n",
              "      <td>1.0</td>\n",
              "      <td>0.766586</td>\n",
              "    </tr>\n",
              "    <tr>\n",
              "      <th>3</th>\n",
              "      <td>1.0</td>\n",
              "      <td>0.724564</td>\n",
              "    </tr>\n",
              "    <tr>\n",
              "      <th>4</th>\n",
              "      <td>1.0</td>\n",
              "      <td>0.889199</td>\n",
              "    </tr>\n",
              "    <tr>\n",
              "      <th>5</th>\n",
              "      <td>1.0</td>\n",
              "      <td>0.601600</td>\n",
              "    </tr>\n",
              "    <tr>\n",
              "      <th>6</th>\n",
              "      <td>1.0</td>\n",
              "      <td>0.666323</td>\n",
              "    </tr>\n",
              "    <tr>\n",
              "      <th>7</th>\n",
              "      <td>1.0</td>\n",
              "      <td>0.567012</td>\n",
              "    </tr>\n",
              "    <tr>\n",
              "      <th>8</th>\n",
              "      <td>1.0</td>\n",
              "      <td>0.650230</td>\n",
              "    </tr>\n",
              "    <tr>\n",
              "      <th>9</th>\n",
              "      <td>1.0</td>\n",
              "      <td>0.829346</td>\n",
              "    </tr>\n",
              "  </tbody>\n",
              "</table>\n",
              "</div>"
            ],
            "text/plain": [
              "     y     proba\n",
              "0  1.0  0.637387\n",
              "1  1.0  0.635165\n",
              "2  1.0  0.766586\n",
              "3  1.0  0.724564\n",
              "4  1.0  0.889199\n",
              "5  1.0  0.601600\n",
              "6  1.0  0.666323\n",
              "7  1.0  0.567012\n",
              "8  1.0  0.650230\n",
              "9  1.0  0.829346"
            ]
          },
          "metadata": {
            "tags": []
          },
          "execution_count": 4
        }
      ]
    },
    {
      "cell_type": "code",
      "metadata": {
        "colab": {
          "base_uri": "https://localhost:8080/"
        },
        "id": "G2uCsNw7LW0b",
        "outputId": "edf18eb7-830e-4f22-dbda-75f7f125a8da"
      },
      "source": [
        "print(df1.y.unique())\n",
        "print(\"Number of classes:\", df1.y.unique().shape[0])"
      ],
      "execution_count": 5,
      "outputs": [
        {
          "output_type": "stream",
          "text": [
            "[1. 0.]\n",
            "Number of classes: 2\n"
          ],
          "name": "stdout"
        }
      ]
    },
    {
      "cell_type": "markdown",
      "metadata": {
        "id": "JnRX8XneqtaC"
      },
      "source": [
        "## Checking for data imbalance:"
      ]
    },
    {
      "cell_type": "code",
      "metadata": {
        "colab": {
          "base_uri": "https://localhost:8080/",
          "height": 309
        },
        "id": "w8SHVcFRGE9S",
        "outputId": "57e26b09-bd1a-48c4-9b8b-59f01c62da77"
      },
      "source": [
        "print(df1['y'].value_counts())\n",
        "# balanced-dataset vs imbalanced datasets\n",
        "\n",
        "import seaborn as sns\n",
        "import matplotlib.pyplot as plt\n",
        "\n",
        "g = sns.FacetGrid(df1,hue='y')\n",
        "g.map_dataframe(sns.histplot,x='y')\n",
        "plt.title(\"Distribution of Feature Survival Status\")\n",
        "plt.legend()"
      ],
      "execution_count": 6,
      "outputs": [
        {
          "output_type": "stream",
          "text": [
            "1.0    10000\n",
            "0.0      100\n",
            "Name: y, dtype: int64\n"
          ],
          "name": "stdout"
        },
        {
          "output_type": "execute_result",
          "data": {
            "text/plain": [
              "<matplotlib.legend.Legend at 0x7f250fe9d898>"
            ]
          },
          "metadata": {
            "tags": []
          },
          "execution_count": 6
        },
        {
          "output_type": "display_data",
          "data": {
            "image/png": "[encoded data removed]",
            "text/plain": [
              "<Figure size 216x216 with 1 Axes>"
            ]
          },
          "metadata": {
            "tags": [],
            "needs_background": "light"
          }
        }
      ]
    },
    {
      "cell_type": "code",
      "metadata": {
        "id": "gdPlcqGuHlAi"
      },
      "source": [
        "\n",
        "def predict(df,y,thresh_hold):\n",
        "    y_pred=[]\n",
        "    for label in df[y]:\n",
        "        if label<thresh_hold:\n",
        "            y_pred.append(0)\n",
        "        else:\n",
        "            y_pred.append(1)\n",
        "    return y_pred"
      ],
      "execution_count": 7,
      "outputs": []
    },
    {
      "cell_type": "markdown",
      "metadata": {
        "id": "wrb-CHl8JWzo"
      },
      "source": [
        "## Referance : \n",
        "https://kawahara.ca/how-to-compute-truefalse-positives-and-truefalse-negatives-in-python-for-binary-classification-problems/ "
      ]
    },
    {
      "cell_type": "markdown",
      "metadata": {
        "id": "6Pm0KXzBJbnr"
      },
      "source": [
        "### TP, FP, FN and TN Calculation:"
      ]
    },
    {
      "cell_type": "code",
      "metadata": {
        "id": "JJXYU9z4JQvH"
      },
      "source": [
        "def cm_elem(df,y,y_pred):\n",
        "   \n",
        "    TP = np.sum(np.logical_and(df.y_pred == 1, df.y == 1))\n",
        "    FP = np.sum(np.logical_and(df.y_pred == 1, df.y == 0))\n",
        "\n",
        "    FN = np.sum(np.logical_and(df.y_pred== 0, df.y == 1))\n",
        "\n",
        "    TN = np.sum(np.logical_and(df.y_pred == 0, df.y == 0))\n",
        "    return {'tp':TP,'fp':FP,'fn':FN,'tn':TN}"
      ],
      "execution_count": 8,
      "outputs": []
    },
    {
      "cell_type": "code",
      "metadata": {
        "colab": {
          "base_uri": "https://localhost:8080/"
        },
        "id": "EuovwDkkH569",
        "outputId": "38d27a41-8bff-4bf4-e93c-f5f41695aa6b"
      },
      "source": [
        "thresh_hold=0.5\n",
        "df1['y_pred']=predict(df1,'proba',thresh_hold)\n",
        "confusion_matrix=cm_elem(df1,'y','y_pred')\n",
        "print(\"confusion matrix is: \",confusion_matrix)"
      ],
      "execution_count": 9,
      "outputs": [
        {
          "output_type": "stream",
          "text": [
            "confusion matrix is:  {'tp': 10000, 'fp': 100, 'fn': 0, 'tn': 0}\n"
          ],
          "name": "stdout"
        }
      ]
    },
    {
      "cell_type": "markdown",
      "metadata": {
        "id": "ihpXfwlzwYxh"
      },
      "source": [
        "### Precision,Recall and F1_Score for 5_a.csv:"
      ]
    },
    {
      "cell_type": "code",
      "metadata": {
        "id": "bkuHTlsYhvfV"
      },
      "source": [
        "# Precision_Recall and F1_Score computation:\n",
        "def Precision_Recall_F1_Score_Mat(df):\n",
        "  confusion_matrix=cm_elem(df,'y','y_pred')\n",
        "  Pos=df.y.value_counts()\n",
        "  P=Pos[1]\n",
        "\n",
        "  precision=confusion_matrix['tp']/(confusion_matrix['tp']+confusion_matrix['fp'])\n",
        "  recall=confusion_matrix['tp']/P\n",
        "\n",
        "  F1_score=2*precision*recall/(precision+recall)\n",
        "\n",
        "  return(precision, recall,F1_score)"
      ],
      "execution_count": 10,
      "outputs": []
    },
    {
      "cell_type": "code",
      "metadata": {
        "colab": {
          "base_uri": "https://localhost:8080/"
        },
        "id": "N9OlC_W5gy0T",
        "outputId": "2682b7b9-5c44-48e0-d49c-90618af0132d"
      },
      "source": [
        "\n",
        "precision_1,recall_1,F1_score_1 = Precision_Recall_F1_Score_Mat(df1)\n",
        "print(\"precision for 5_a.csv data\")\n",
        "print(precision_1)\n",
        "print('recall for 5_a.csv data')\n",
        "print(recall_1)\n",
        "print('F1 score for 5_a.csv data')\n",
        "print(F1_score_1)"
      ],
      "execution_count": 11,
      "outputs": [
        {
          "output_type": "stream",
          "text": [
            "precision for 5_a.csv data\n",
            "0.9900990099009901\n",
            "recall for 5_a.csv data\n",
            "1.0\n",
            "F1 score for 5_a.csv data\n",
            "0.9950248756218906\n"
          ],
          "name": "stdout"
        }
      ]
    },
    {
      "cell_type": "markdown",
      "metadata": {
        "id": "xh6kQO6vrhAt"
      },
      "source": [
        "## Accuracy for 5_a.csv data:"
      ]
    },
    {
      "cell_type": "code",
      "metadata": {
        "colab": {
          "base_uri": "https://localhost:8080/"
        },
        "id": "VuAg-9b4RRI_",
        "outputId": "be638bc5-a17b-4a79-bff1-c5ad3d0ce5a7"
      },
      "source": [
        "\n",
        "# Accuracy\n",
        "Acc=(cm_elem(df1,'y','y_pred')['tp']+cm_elem(df1,'y','y_pred')['tn'])/df1.shape[0]\n",
        "print('the accuracy is: ',Acc)"
      ],
      "execution_count": 12,
      "outputs": [
        {
          "output_type": "stream",
          "text": [
            "the accuracy is:  0.9900990099009901\n"
          ],
          "name": "stdout"
        }
      ]
    },
    {
      "cell_type": "markdown",
      "metadata": {
        "id": "H2fzrE7z_v2P"
      },
      "source": [
        "## Referance : Inputs from AppliedAI Team:"
      ]
    },
    {
      "cell_type": "code",
      "metadata": {
        "id": "I50ziOUVsFdC"
      },
      "source": [
        "# def AUCScore(actual_values, probability_values):\n",
        "   \n",
        "    # Getting the indices of probability values in descending order. ==> use np.argsort function\n",
        "    # Arrange actual_values and probability_values as same as indices order.\n",
        "    # Ex: actual_values = actual_values[indices], probability_values = probability_values[indices]\n",
        "   \n",
        "    # create two empty lists for tpr=[] and fpr=[]\n",
        "    # for threshold in probability_values:\n",
        "            # create empty list of y_predicted = []\n",
        "            # for prob in probability_values:\n",
        "                  # append 0 to y_predicted if prob < threshold otherwise append 1\n",
        "            # Now get tn, fp, fn, tp by using actaul_values and y_predicted\n",
        "            # append tpr value to tpr list ===> tpr = tp/(tp+fn)\n",
        "            # append fpr value to fpr list ===> fpr = fp/(fp+tn)\n",
        "   \n",
        "    # return np.trapz(tpr, fpr)"
      ],
      "execution_count": 13,
      "outputs": []
    },
    {
      "cell_type": "markdown",
      "metadata": {
        "id": "Eq6AMqTxrqvJ"
      },
      "source": [
        "## AUC Score calculation:"
      ]
    },
    {
      "cell_type": "code",
      "metadata": {
        "id": "UD240K-Tz-OQ"
      },
      "source": [
        "from tqdm import tqdm_notebook \n",
        "def AUCscore(df):\n",
        "  df = df.sort_values(by=['proba'],ascending=False) # sorting the df['proba'] column in descending order\n",
        "  c = df['y'].value_counts()\n",
        "  P = c[1] # no of positive points\n",
        "  N = c[0] # no of negative points\n",
        "  tpr = []\n",
        "  fpr = []\n",
        "  # optimized code for df['y_pred']\n",
        "  for threshold in tqdm_notebook(df['proba'].unique()):\n",
        "    df['y_pred'] = np.where(df['proba']>=threshold,1,0) # each time checks for every value in proba column >=threshold value\n",
        "    confusion_mat=cm_elem(df,'y','y_pred') \n",
        "    tpr.append(confusion_mat['tp']/P)\n",
        "    fpr.append(confusion_mat['fp']/N)\n",
        "  return (np.trapz(tpr,fpr),tpr,fpr)\n",
        "# df['y_pred'] = np.where(df['proba']>=threshold,1,0) \n",
        "# each time checks for every value in proba column >=threshold value \n",
        "# and threshold value is same till checking for all the values in df['proba] is checked.\n",
        "# and threshold takes next value from the column df['proba'] and again the above steps are repeated."
      ],
      "execution_count": 14,
      "outputs": []
    },
    {
      "cell_type": "code",
      "metadata": {
        "colab": {
          "base_uri": "https://localhost:8080/",
          "height": 66,
          "referenced_widgets": [
            "2dcc356991e4467686743aceca800e73",
            "8668f1d6613e43009429448436b03389",
            "bcab25cde4094949b34899b8d7e1f151",
            "8fe509dca62a4bd796fcdc36bd4691bb",
            "6bc147b393d84cdd9a3d6b0985ccb842",
            "5a9764d3337346d2b9633f38ee9a6946",
            "8b3b428f93184680b99e3559b0686d88",
            "b953135223d34f3ca39715acbfb0c0b2"
          ]
        },
        "id": "GL5jmf-62E1J",
        "outputId": "f04a67be-1a5f-4c14-800b-6908d6512af6"
      },
      "source": [
        "AUC_score1,TPR1,FPR1 = AUCscore(df1)\n"
      ],
      "execution_count": 15,
      "outputs": [
        {
          "output_type": "display_data",
          "data": {
            "application/vnd.jupyter.widget-view+json": {
              "model_id": "2dcc356991e4467686743aceca800e73",
              "version_minor": 0,
              "version_major": 2
            },
            "text/plain": [
              "HBox(children=(FloatProgress(value=0.0, max=10100.0), HTML(value='')))"
            ]
          },
          "metadata": {
            "tags": []
          }
        },
        {
          "output_type": "stream",
          "text": [
            "\n"
          ],
          "name": "stdout"
        }
      ]
    },
    {
      "cell_type": "markdown",
      "metadata": {
        "id": "rRP_eN5FA5D0"
      },
      "source": [
        "## Plotting ROC curve for 5_a.csv data:"
      ]
    },
    {
      "cell_type": "code",
      "metadata": {
        "id": "aZIUd_n0AU06"
      },
      "source": [
        "import matplotlib.patches as mpatches\n",
        "def ROC_curve(TPR,FPR,AUC_score):\n",
        "  plt.title(\"ROC curve for 5_a.csv data\")\n",
        "  print(\"AUC score is \", AUC_score)\n",
        "  plt.plot(FPR,TPR)\n",
        "  plt.xlabel('fpr')\n",
        "  plt.ylabel('tpr')\n",
        "  red_patch = mpatches.Patch(color='red', label=AUC_score)\n",
        "  plt.legend(handles=[red_patch],loc=\"upper right\")\n",
        "  plt.show()\n"
      ],
      "execution_count": 16,
      "outputs": []
    },
    {
      "cell_type": "code",
      "metadata": {
        "colab": {
          "base_uri": "https://localhost:8080/",
          "height": 312
        },
        "id": "6rub9ntAxoCJ",
        "outputId": "eebae0f1-5721-4fbf-d3f5-e6048ad61e5b"
      },
      "source": [
        "ROC_curve(TPR1,FPR1,AUC_score1)"
      ],
      "execution_count": 17,
      "outputs": [
        {
          "output_type": "stream",
          "text": [
            "AUC score is  0.48829900000000004\n"
          ],
          "name": "stdout"
        },
        {
          "output_type": "display_data",
          "data": {
            "image/png": "[encoded data removed]",
            "text/plain": [
              "<Figure size 432x288 with 1 Axes>"
            ]
          },
          "metadata": {
            "tags": [],
            "needs_background": "light"
          }
        }
      ]
    },
    {
      "cell_type": "markdown",
      "metadata": {
        "id": "p2cx_4n-wvLo"
      },
      "source": [
        "Please go through the procedure below to calculate the AUC score:\n",
        "\n",
        "First, we need to sort a dataframe in descending order based on the \"proba\" column, by using the sort_values() function:\n",
        "\n",
        "import pandas as pd                                       \n",
        "data = pd.read_csv(\"5_a.csv\")\n",
        "\n",
        "data = data.sort_values( by= [\"proba\"], ascending = False)\n",
        "\n",
        "While computing AUC score you need to calculate \"TP,\"FP\" at every threshold by using actual \"y\" and predicted \"y_pred\".\n",
        "                                                       tpr = [ ]\n",
        "                                                       fpr = [ ]\n",
        "# here \"data\" is particular task data\n",
        "import numpy as np\n",
        "for threshold in tqdm(data['proba'].unique()):\n",
        "    data['y_pred'] =np.where( data['proba'] > =  threshold, 1,0)\n",
        "\n",
        "By using TP and FP we can calculate TPR = (TP/P) and FPR=(FP/N), where  \"P\" (TP+FN)  is number of positive points at given threshold and \"N\" (TN+FP) is the number of negative points in the given threshold. \n",
        "\n",
        "                 Please make sure that you write optimized code while calculating TP, FP, FN, TN\n",
        "\n",
        "                 TP = (data['y']==1.0) & (data['pred'] == 1.0)).sum()  \n",
        "                  Please refer link (https://pandas.pydata.org/pandas-docs/stable/reference/api/pandas.DataFrame.sum.html) \n",
        "\n",
        "After computing \"TPR\" and \"FPR\" at each threshold, append those values inside the \"tpr\" and \"fpr\" lists \n",
        "\n",
        "To get AUC score, we need to send \"tpr\" and \"fpr\" lists as arguments inside the \"trapz()\" function present in the NumPy module."
      ]
    },
    {
      "cell_type": "markdown",
      "metadata": {
        "id": "V5KZem1BQvn2"
      },
      "source": [
        "<pre>\n",
        "<font color='red'><b>B.</b></font> Compute performance metrics for the given data <strong>5_b.csv</strong>\n",
        "   <b>Note 1:</b> in this data you can see number of positive points << number of negatives points\n",
        "   <b>Note 2:</b> use pandas or numpy to read the data from <b>5_b.csv</b>\n",
        "   <b>Note 3:</b> you need to derive the class labels from given score</pre> $y^{pred}= \\text{[0 if y_score < 0.5 else 1]}$\n",
        "\n",
        "<pre>\n",
        "<ol>\n",
        "<li> Compute Confusion Matrix </li>\n",
        "<li> Compute F1 Score </li>\n",
        "<li> Compute AUC Score, you need to compute different thresholds and for each threshold compute tpr,fpr and then use               numpy.trapz(tpr_array, fpr_array) <a href='https://stackoverflow.com/q/53603376/4084039'>https://stackoverflow.com/q/53603376/4084039</a>, <a href='https://stackoverflow.com/a/39678975/4084039'>https://stackoverflow.com/a/39678975/4084039</a></li>\n",
        "<li> Compute Accuracy Score </li>\n",
        "</ol>\n",
        "</pre>"
      ]
    },
    {
      "cell_type": "markdown",
      "metadata": {
        "id": "SaM5zE71zY-7"
      },
      "source": [
        "## Task B:"
      ]
    },
    {
      "cell_type": "code",
      "metadata": {
        "colab": {
          "base_uri": "https://localhost:8080/",
          "height": 359
        },
        "id": "uaRj6JjzzTAv",
        "outputId": "bd6b0a3c-96fd-41f4-c358-30351775eb97"
      },
      "source": [
        "# Task B\n",
        "# Step 1. Importing the 5_a.csv file:\n",
        "df2 = pd.read_csv('/content/drive/MyDrive/Applied AI Assignments/Module_3/Assignemnt/Assignment_5_Performance_Metrics_Without_Sklearn/5_Performance_metrics/5_b.csv')\n",
        "\n",
        "df2.head(10)"
      ],
      "execution_count": 18,
      "outputs": [
        {
          "output_type": "execute_result",
          "data": {
            "text/html": [
              "<div>\n",
              "<style scoped>\n",
              "    .dataframe tbody tr th:only-of-type {\n",
              "        vertical-align: middle;\n",
              "    }\n",
              "\n",
              "    .dataframe tbody tr th {\n",
              "        vertical-align: top;\n",
              "    }\n",
              "\n",
              "    .dataframe thead th {\n",
              "        text-align: right;\n",
              "    }\n",
              "</style>\n",
              "<table border=\"1\" class=\"dataframe\">\n",
              "  <thead>\n",
              "    <tr style=\"text-align: right;\">\n",
              "      <th></th>\n",
              "      <th>y</th>\n",
              "      <th>proba</th>\n",
              "    </tr>\n",
              "  </thead>\n",
              "  <tbody>\n",
              "    <tr>\n",
              "      <th>0</th>\n",
              "      <td>0.0</td>\n",
              "      <td>0.281035</td>\n",
              "    </tr>\n",
              "    <tr>\n",
              "      <th>1</th>\n",
              "      <td>0.0</td>\n",
              "      <td>0.465152</td>\n",
              "    </tr>\n",
              "    <tr>\n",
              "      <th>2</th>\n",
              "      <td>0.0</td>\n",
              "      <td>0.352793</td>\n",
              "    </tr>\n",
              "    <tr>\n",
              "      <th>3</th>\n",
              "      <td>0.0</td>\n",
              "      <td>0.157818</td>\n",
              "    </tr>\n",
              "    <tr>\n",
              "      <th>4</th>\n",
              "      <td>0.0</td>\n",
              "      <td>0.276648</td>\n",
              "    </tr>\n",
              "    <tr>\n",
              "      <th>5</th>\n",
              "      <td>0.0</td>\n",
              "      <td>0.190260</td>\n",
              "    </tr>\n",
              "    <tr>\n",
              "      <th>6</th>\n",
              "      <td>0.0</td>\n",
              "      <td>0.320328</td>\n",
              "    </tr>\n",
              "    <tr>\n",
              "      <th>7</th>\n",
              "      <td>0.0</td>\n",
              "      <td>0.435013</td>\n",
              "    </tr>\n",
              "    <tr>\n",
              "      <th>8</th>\n",
              "      <td>0.0</td>\n",
              "      <td>0.284849</td>\n",
              "    </tr>\n",
              "    <tr>\n",
              "      <th>9</th>\n",
              "      <td>0.0</td>\n",
              "      <td>0.427919</td>\n",
              "    </tr>\n",
              "  </tbody>\n",
              "</table>\n",
              "</div>"
            ],
            "text/plain": [
              "     y     proba\n",
              "0  0.0  0.281035\n",
              "1  0.0  0.465152\n",
              "2  0.0  0.352793\n",
              "3  0.0  0.157818\n",
              "4  0.0  0.276648\n",
              "5  0.0  0.190260\n",
              "6  0.0  0.320328\n",
              "7  0.0  0.435013\n",
              "8  0.0  0.284849\n",
              "9  0.0  0.427919"
            ]
          },
          "metadata": {
            "tags": []
          },
          "execution_count": 18
        }
      ]
    },
    {
      "cell_type": "code",
      "metadata": {
        "id": "U2sKlq0YQvn5",
        "colab": {
          "base_uri": "https://localhost:8080/"
        },
        "outputId": "f513e24b-bf2d-40b6-ee0c-80c4f4f79f33"
      },
      "source": [
        "print(df2.y.unique())\n",
        "print(\"Number of classes:\", df2.y.unique().shape[0])"
      ],
      "execution_count": 19,
      "outputs": [
        {
          "output_type": "stream",
          "text": [
            "[0. 1.]\n",
            "Number of classes: 2\n"
          ],
          "name": "stdout"
        }
      ]
    },
    {
      "cell_type": "code",
      "metadata": {
        "colab": {
          "base_uri": "https://localhost:8080/",
          "height": 309
        },
        "id": "VW8Qi-2wzylv",
        "outputId": "b157cb8d-baf1-4acb-ae6d-d1ea5c5af89d"
      },
      "source": [
        "print(df2['y'].value_counts())\n",
        "# balanced-dataset vs imbalanced datasets\n",
        "\n",
        "import seaborn as sns\n",
        "import matplotlib.pyplot as plt\n",
        "\n",
        "g = sns.FacetGrid(df2,hue='y')\n",
        "g.map_dataframe(sns.histplot,x='y')\n",
        "plt.title(\"Distribution of Feature Survival Status\")\n",
        "plt.legend()"
      ],
      "execution_count": 20,
      "outputs": [
        {
          "output_type": "stream",
          "text": [
            "0.0    10000\n",
            "1.0      100\n",
            "Name: y, dtype: int64\n"
          ],
          "name": "stdout"
        },
        {
          "output_type": "execute_result",
          "data": {
            "text/plain": [
              "<matplotlib.legend.Legend at 0x7f2506587a20>"
            ]
          },
          "metadata": {
            "tags": []
          },
          "execution_count": 20
        },
        {
          "output_type": "display_data",
          "data": {
            "image/png": "[encoded data removed]",
            "text/plain": [
              "<Figure size 216x216 with 1 Axes>"
            ]
          },
          "metadata": {
            "tags": [],
            "needs_background": "light"
          }
        }
      ]
    },
    {
      "cell_type": "markdown",
      "metadata": {
        "id": "EjlBT-lzr6yE"
      },
      "source": [
        "### TP, FP, FN and TN for 5_b.csv data:"
      ]
    },
    {
      "cell_type": "code",
      "metadata": {
        "colab": {
          "base_uri": "https://localhost:8080/"
        },
        "id": "DtL3tN7oz7tj",
        "outputId": "590b5733-ebf6-437a-ee99-b39895f39597"
      },
      "source": [
        "thresh_hold=0.5\n",
        "df2['y_pred']=predict(df2,'proba',thresh_hold)\n",
        "confusion_matrix=cm_elem(df2,'y','y_pred')\n",
        "print(\"confusion matrix is: \",confusion_matrix)"
      ],
      "execution_count": 21,
      "outputs": [
        {
          "output_type": "stream",
          "text": [
            "confusion matrix is:  {'tp': 55, 'fp': 239, 'fn': 45, 'tn': 9761}\n"
          ],
          "name": "stdout"
        }
      ]
    },
    {
      "cell_type": "markdown",
      "metadata": {
        "id": "jcv6WPA81Hky"
      },
      "source": [
        "### Precision, Recall and F1score for 5_b.csv data:\n"
      ]
    },
    {
      "cell_type": "code",
      "metadata": {
        "colab": {
          "base_uri": "https://localhost:8080/"
        },
        "id": "qr6ms8-5me7c",
        "outputId": "f4395bee-cdca-47a1-f4dc-64aba1802e6a"
      },
      "source": [
        "precion_2,recall_2,F1_score2 = Precision_Recall_F1_Score_Mat(df2)\n",
        "print(\"recall 2\")\n",
        "print(recall_2)\n",
        "print(\"Precision 2\")\n",
        "print(precion_2)\n",
        "print(\"F1 score 2\")\n",
        "print(F1_score2)"
      ],
      "execution_count": 22,
      "outputs": [
        {
          "output_type": "stream",
          "text": [
            "recall 2\n",
            "0.55\n",
            "Precision 2\n",
            "0.1870748299319728\n",
            "F1 score 2\n",
            "0.2791878172588833\n"
          ],
          "name": "stdout"
        }
      ]
    },
    {
      "cell_type": "markdown",
      "metadata": {
        "id": "ISj6Z_h3s_yG"
      },
      "source": [
        "## Accuracy for 5_b.csv data:"
      ]
    },
    {
      "cell_type": "code",
      "metadata": {
        "colab": {
          "base_uri": "https://localhost:8080/"
        },
        "id": "W72tRoqurrEA",
        "outputId": "61a94b89-7184-4da5-ea7c-7a01a21f413f"
      },
      "source": [
        "# Accuracy\n",
        "Acc2=(cm_elem(df2,'y','y_pred')['tp']+cm_elem(df2,'y','y_pred')['tn'])/df2.shape[0]\n",
        "print('the accuracy is: ',Acc2)"
      ],
      "execution_count": 23,
      "outputs": [
        {
          "output_type": "stream",
          "text": [
            "the accuracy is:  0.9718811881188119\n"
          ],
          "name": "stdout"
        }
      ]
    },
    {
      "cell_type": "code",
      "metadata": {
        "colab": {
          "base_uri": "https://localhost:8080/",
          "height": 66,
          "referenced_widgets": [
            "6d7256c8000d4896b6f74ab29eb2c482",
            "610e0521061a4ea5b03a913b4419fd2c",
            "4518c285787b492c98817cdbf470501a",
            "c35b11ea07204e6c9aa832a900890d1e",
            "54c0336f39894382bb5d399ad497aa06",
            "d5e82deb41004ab685bd13c99f8f603f",
            "096ac0537f4f480faf75d4fbad1f0c3c",
            "91fa5fd773994b349a8f29661a495820"
          ]
        },
        "id": "G45zL2Ibr8YA",
        "outputId": "faec1314-5d69-4829-f339-4c1ddf71490d"
      },
      "source": [
        "# AUC Score:\n",
        "AUC_score2,TPR2,FPR2 = AUCscore(df2)"
      ],
      "execution_count": 24,
      "outputs": [
        {
          "output_type": "display_data",
          "data": {
            "application/vnd.jupyter.widget-view+json": {
              "model_id": "6d7256c8000d4896b6f74ab29eb2c482",
              "version_minor": 0,
              "version_major": 2
            },
            "text/plain": [
              "HBox(children=(FloatProgress(value=0.0, max=10100.0), HTML(value='')))"
            ]
          },
          "metadata": {
            "tags": []
          }
        },
        {
          "output_type": "stream",
          "text": [
            "\n"
          ],
          "name": "stdout"
        }
      ]
    },
    {
      "cell_type": "markdown",
      "metadata": {
        "id": "xv-vOMsZCLnV"
      },
      "source": [
        "## ROC Curve for 5_b.csv data:"
      ]
    },
    {
      "cell_type": "code",
      "metadata": {
        "colab": {
          "base_uri": "https://localhost:8080/",
          "height": 312
        },
        "id": "mU2GNHJGCHv2",
        "outputId": "bfce68fa-1e24-4d59-e735-95a4d4b7257b"
      },
      "source": [
        "ROC_curve(TPR2,FPR2,AUC_score2)"
      ],
      "execution_count": 25,
      "outputs": [
        {
          "output_type": "stream",
          "text": [
            "AUC score is  0.9377570000000001\n"
          ],
          "name": "stdout"
        },
        {
          "output_type": "display_data",
          "data": {
            "image/png": "[encoded data removed]",
            "text/plain": [
              "<Figure size 432x288 with 1 Axes>"
            ]
          },
          "metadata": {
            "tags": [],
            "needs_background": "light"
          }
        }
      ]
    },
    {
      "cell_type": "markdown",
      "metadata": {
        "id": "GiPGonTzQvoB"
      },
      "source": [
        "<font color='red'><b>C.</b></font> Compute the best threshold (similarly to ROC curve computation) of probability which gives lowest values of metric <b>A</b> for the given data <strong>5_c.csv</strong>\n",
        "<br>\n",
        "\n",
        "you will be predicting label of a data points like this: $y^{pred}= \\text{[0 if y_score < threshold  else 1]}$\n",
        "\n",
        "$ A = 500 \\times \\text{number of false negative} + 100 \\times \\text{numebr of false positive}$\n",
        "\n",
        "<pre>\n",
        "   <b>Note 1:</b> in this data you can see number of negative points > number of positive points\n",
        "   <b>Note 2:</b> use pandas or numpy to read the data from <b>5_c.csv</b>\n",
        "</pre>"
      ]
    },
    {
      "cell_type": "markdown",
      "metadata": {
        "id": "pWNlAqnnotEX"
      },
      "source": [
        "## 1. Loading the 5_c.csv data:"
      ]
    },
    {
      "cell_type": "code",
      "metadata": {
        "colab": {
          "base_uri": "https://localhost:8080/",
          "height": 204
        },
        "id": "7wq5bQ1e0_sw",
        "outputId": "f5422c7e-a4ad-4843-a60e-e787b706598b"
      },
      "source": [
        "import pandas as pd\n",
        "df3 = pd.read_csv('/content/drive/MyDrive/Applied AI Assignments/Module_3/Assignemnt/Assignment_5_Performance_Metrics_Without_Sklearn/5_Performance_metrics/5_c.csv')\n",
        "df3=df3.sort_values(by='prob',ascending=False)\n",
        "df3.head(5)"
      ],
      "execution_count": 26,
      "outputs": [
        {
          "output_type": "execute_result",
          "data": {
            "text/html": [
              "<div>\n",
              "<style scoped>\n",
              "    .dataframe tbody tr th:only-of-type {\n",
              "        vertical-align: middle;\n",
              "    }\n",
              "\n",
              "    .dataframe tbody tr th {\n",
              "        vertical-align: top;\n",
              "    }\n",
              "\n",
              "    .dataframe thead th {\n",
              "        text-align: right;\n",
              "    }\n",
              "</style>\n",
              "<table border=\"1\" class=\"dataframe\">\n",
              "  <thead>\n",
              "    <tr style=\"text-align: right;\">\n",
              "      <th></th>\n",
              "      <th>y</th>\n",
              "      <th>prob</th>\n",
              "    </tr>\n",
              "  </thead>\n",
              "  <tbody>\n",
              "    <tr>\n",
              "      <th>2634</th>\n",
              "      <td>1</td>\n",
              "      <td>0.957747</td>\n",
              "    </tr>\n",
              "    <tr>\n",
              "      <th>2548</th>\n",
              "      <td>1</td>\n",
              "      <td>0.951437</td>\n",
              "    </tr>\n",
              "    <tr>\n",
              "      <th>2447</th>\n",
              "      <td>1</td>\n",
              "      <td>0.948638</td>\n",
              "    </tr>\n",
              "    <tr>\n",
              "      <th>2788</th>\n",
              "      <td>1</td>\n",
              "      <td>0.944094</td>\n",
              "    </tr>\n",
              "    <tr>\n",
              "      <th>2456</th>\n",
              "      <td>1</td>\n",
              "      <td>0.941113</td>\n",
              "    </tr>\n",
              "  </tbody>\n",
              "</table>\n",
              "</div>"
            ],
            "text/plain": [
              "      y      prob\n",
              "2634  1  0.957747\n",
              "2548  1  0.951437\n",
              "2447  1  0.948638\n",
              "2788  1  0.944094\n",
              "2456  1  0.941113"
            ]
          },
          "metadata": {
            "tags": []
          },
          "execution_count": 26
        }
      ]
    },
    {
      "cell_type": "markdown",
      "metadata": {
        "id": "VQ9Q0-VHo44_"
      },
      "source": [
        "## 2. Function to compute the best threshold corrosponding to minimum value of A:"
      ]
    },
    {
      "cell_type": "code",
      "metadata": {
        "id": "pf_gj7ZScvRY"
      },
      "source": [
        "def best_threshold1(df):\n",
        "  values_of_A = [] # list of values of A\n",
        "  threshold_values = [] # list of thresholds\n",
        "  for threshold in tqdm_notebook(df['prob'].unique()):\n",
        "      df['y_pred'] = np.where(df['prob']>=threshold,1,0) # each time checks for every value in proba column >=threshold value\n",
        "      confusion_mat=cm_elem(df,'y','y_pred') \n",
        "      A = (500*confusion_mat['fn'] + 100*confusion_mat['fp'])\n",
        "      values_of_A.append(A)\n",
        "      threshold_value = threshold \n",
        "      threshold_values.append(threshold_value)\n",
        "  # threshold_values as key\n",
        "  dictionary  = dict(zip(threshold_values, values_of_A)) # dictionary of threshold_values and values_A\n",
        "  minimum_value_of_metric = min(dictionary.values()) # finding the minimum value of A\n",
        "\n",
        "  for key,value in (dictionary.items()):\n",
        "    if (value==minimum_value_of_metric):\n",
        "        return(key,value)"
      ],
      "execution_count": 27,
      "outputs": []
    },
    {
      "cell_type": "code",
      "metadata": {
        "colab": {
          "base_uri": "https://localhost:8080/",
          "height": 100,
          "referenced_widgets": [
            "2d911ce190fd4c419e16931e132c9c39",
            "fa2d7b8c1b9f4ca1a750d4e30e64902d",
            "00dd9246cb5143c29151870832034589",
            "35ed2be335754725ad219843c64fc53f",
            "8b5ebd0f32c64d06bdf61334a465d6ee",
            "a0c67aa747604aeaada57de1c4aa10a6",
            "893f8746bc564428b79f64986625d08e",
            "2bff80741c324969b05bb8dcb5c260cf"
          ]
        },
        "id": "9da0F5oE67Ps",
        "outputId": "fa20fd46-eb1b-407c-80f0-c570e2f9e017"
      },
      "source": [
        "best_value_of_threshold, minimum_value_of_A = best_threshold1(df3)\n",
        "print(\"The minimum value of A is :\",minimum_value_of_A)\n",
        "print(\"The best threshold corrosponding to minimum value of A is :\", best_value_of_threshold)\n",
        "\n"
      ],
      "execution_count": 28,
      "outputs": [
        {
          "output_type": "display_data",
          "data": {
            "application/vnd.jupyter.widget-view+json": {
              "model_id": "2d911ce190fd4c419e16931e132c9c39",
              "version_minor": 0,
              "version_major": 2
            },
            "text/plain": [
              "HBox(children=(FloatProgress(value=0.0, max=2791.0), HTML(value='')))"
            ]
          },
          "metadata": {
            "tags": []
          }
        },
        {
          "output_type": "stream",
          "text": [
            "\n",
            "The minimum value of A is : 141000\n",
            "The best threshold corrosponding to minimum value of A is : 0.2300390278970873\n"
          ],
          "name": "stdout"
        }
      ]
    },
    {
      "cell_type": "markdown",
      "metadata": {
        "id": "sD4CcgjXQvoL"
      },
      "source": [
        "<pre>\n",
        "<font color='red'><b>D.</b></font> Compute performance metrics(for regression) for the given data <strong>5_d.csv</strong>\n",
        "    <b>Note 2:</b> use pandas or numpy to read the data from <b>5_d.csv</b>\n",
        "    <b>Note 1:</b> <b>5_d.csv</b> will having two columns Y and predicted_Y both are real valued features\n",
        "<ol>\n",
        "<li> Compute Mean Square Error </li>\n",
        "<li> Compute MAPE: https://www.youtube.com/watch?v=ly6ztgIkUxk</li>\n",
        "<li> Compute R^2 error: https://en.wikipedia.org/wiki/Coefficient_of_determination#Definitions </li>\n",
        "</ol>\n",
        "</pre>"
      ]
    },
    {
      "cell_type": "markdown",
      "metadata": {
        "id": "lJNA3b3SpZrI"
      },
      "source": [
        "## 1.Reading the 5_d.csv data:"
      ]
    },
    {
      "cell_type": "code",
      "metadata": {
        "colab": {
          "base_uri": "https://localhost:8080/",
          "height": 204
        },
        "id": "0jd-u5q3p8Me",
        "outputId": "ce3cda2e-4ae9-4328-dae4-129ad64dc3b7"
      },
      "source": [
        "import pandas as pd\n",
        "import numpy as np\n",
        "df4 = df3 = pd.read_csv('/content/drive/MyDrive/Applied AI Assignments/Module_3/Assignemnt/Assignment_5_Performance_Metrics_Without_Sklearn/5_Performance_metrics/5_d.csv')\n",
        "df4.head(5)"
      ],
      "execution_count": 29,
      "outputs": [
        {
          "output_type": "execute_result",
          "data": {
            "text/html": [
              "<div>\n",
              "<style scoped>\n",
              "    .dataframe tbody tr th:only-of-type {\n",
              "        vertical-align: middle;\n",
              "    }\n",
              "\n",
              "    .dataframe tbody tr th {\n",
              "        vertical-align: top;\n",
              "    }\n",
              "\n",
              "    .dataframe thead th {\n",
              "        text-align: right;\n",
              "    }\n",
              "</style>\n",
              "<table border=\"1\" class=\"dataframe\">\n",
              "  <thead>\n",
              "    <tr style=\"text-align: right;\">\n",
              "      <th></th>\n",
              "      <th>y</th>\n",
              "      <th>pred</th>\n",
              "    </tr>\n",
              "  </thead>\n",
              "  <tbody>\n",
              "    <tr>\n",
              "      <th>0</th>\n",
              "      <td>101.0</td>\n",
              "      <td>100.0</td>\n",
              "    </tr>\n",
              "    <tr>\n",
              "      <th>1</th>\n",
              "      <td>120.0</td>\n",
              "      <td>100.0</td>\n",
              "    </tr>\n",
              "    <tr>\n",
              "      <th>2</th>\n",
              "      <td>131.0</td>\n",
              "      <td>113.0</td>\n",
              "    </tr>\n",
              "    <tr>\n",
              "      <th>3</th>\n",
              "      <td>164.0</td>\n",
              "      <td>125.0</td>\n",
              "    </tr>\n",
              "    <tr>\n",
              "      <th>4</th>\n",
              "      <td>154.0</td>\n",
              "      <td>152.0</td>\n",
              "    </tr>\n",
              "  </tbody>\n",
              "</table>\n",
              "</div>"
            ],
            "text/plain": [
              "       y   pred\n",
              "0  101.0  100.0\n",
              "1  120.0  100.0\n",
              "2  131.0  113.0\n",
              "3  164.0  125.0\n",
              "4  154.0  152.0"
            ]
          },
          "metadata": {
            "tags": []
          },
          "execution_count": 29
        }
      ]
    },
    {
      "cell_type": "markdown",
      "metadata": {
        "id": "eNG3N4scBqP8"
      },
      "source": [
        "## 2.Mean square error calculation (MSE):\n",
        "\n"
      ]
    },
    {
      "cell_type": "code",
      "metadata": {
        "id": "L7FCdaa_A2rB"
      },
      "source": [
        "# mse definition:\n",
        "def mse(df):\n",
        "  mse = np.mean((df4.y - df4.pred)**2)\n",
        "  return(mse)"
      ],
      "execution_count": 30,
      "outputs": []
    },
    {
      "cell_type": "code",
      "metadata": {
        "colab": {
          "base_uri": "https://localhost:8080/"
        },
        "id": "HnZ_ehkvBnGy",
        "outputId": "660552fc-4067-4191-a739-23cd0a22a783"
      },
      "source": [
        "print(\"Mean Square Error is : \",mse(df4))"
      ],
      "execution_count": 31,
      "outputs": [
        {
          "output_type": "stream",
          "text": [
            "Mean Square Error is :  177.16569974554707\n"
          ],
          "name": "stdout"
        }
      ]
    },
    {
      "cell_type": "markdown",
      "metadata": {
        "id": "mEawcze7B518"
      },
      "source": [
        "## 3. Mean Absolute Percentage Error (MAPE):"
      ]
    },
    {
      "cell_type": "code",
      "metadata": {
        "id": "3sDWIOFkB1US"
      },
      "source": [
        "def MAPE(df): # Mean Absolute Percentage Error\n",
        "  e = np.sum(abs(df.y - df.pred))\n",
        "  y = np.sum(df.y)\n",
        "  MAPE = e/y\n",
        "  return(MAPE)"
      ],
      "execution_count": 32,
      "outputs": []
    },
    {
      "cell_type": "code",
      "metadata": {
        "colab": {
          "base_uri": "https://localhost:8080/"
        },
        "id": "ItP2Mpi3ET3j",
        "outputId": "07322f60-cc3f-4daf-f961-16e6ddaeb8cd"
      },
      "source": [
        "print(\"Mean Absolute Percentage Error :\", MAPE(df4))"
      ],
      "execution_count": 33,
      "outputs": [
        {
          "output_type": "stream",
          "text": [
            "Mean Absolute Percentage Error : 0.1291202994009687\n"
          ],
          "name": "stdout"
        }
      ]
    },
    {
      "cell_type": "markdown",
      "metadata": {
        "id": "cI-9rys_Fb4K"
      },
      "source": [
        "## 4. R^2 error :"
      ]
    },
    {
      "cell_type": "code",
      "metadata": {
        "id": "EpuxFNgpEWD7"
      },
      "source": [
        "def R_square_error(df):\n",
        "  SS_res = np.sum((df.y - df.pred)**2)\n",
        "  y_bar = np.mean(df.y)\n",
        "  SS_tot = np.sum((df.y - y_bar)**2)\n",
        "\n",
        "  R_Square = 1 - (SS_res/SS_tot)\n",
        "  return(R_Square)\n"
      ],
      "execution_count": 34,
      "outputs": []
    },
    {
      "cell_type": "code",
      "metadata": {
        "colab": {
          "base_uri": "https://localhost:8080/"
        },
        "id": "pp5V3H1EGst3",
        "outputId": "56f04000-b559-491e-f0a5-bdf21b053c2e"
      },
      "source": [
        "print(\"R_Square Error is : \", R_square_error(df4))"
      ],
      "execution_count": 35,
      "outputs": [
        {
          "output_type": "stream",
          "text": [
            "R_Square Error is :  0.9563582786990937\n"
          ],
          "name": "stdout"
        }
      ]
    },
    {
      "cell_type": "code",
      "metadata": {
        "id": "vYcNxIBF1NAW"
      },
      "source": [
        "\n"
      ],
      "execution_count": 35,
      "outputs": []
    }
  ]
}